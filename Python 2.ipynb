{
  "metadata": {
    "kernelspec": {
      "name": "python",
      "display_name": "Python (Pyodide)",
      "language": "python"
    },
    "language_info": {
      "codemirror_mode": {
        "name": "python",
        "version": 3
      },
      "file_extension": ".py",
      "mimetype": "text/x-python",
      "name": "python",
      "nbconvert_exporter": "python",
      "pygments_lexer": "ipython3",
      "version": "3.8"
    }
  },
  "nbformat_minor": 4,
  "nbformat": 4,
  "cells": [
    {
      "cell_type": "markdown",
      "source": "# Actividad",
      "metadata": {}
    },
    {
      "cell_type": "markdown",
      "source": "1. Pasar a función el código de encontrar un numero primo que retorne TRUE si es primo y FALSE si es falso.\n2. Crear una función que ingrese un número n y que encuentre el numero primo más cercano\n3. Pasar a función el código de encontrar factorial y encontrar factorial de los siguientes números\n    * 4\n    * 7\n    * 5\n    * 0\n    * 9\n    * 3\n      \nNo encontrar factoriales de uno en uno",
      "metadata": {}
    },
    {
      "cell_type": "code",
      "source": "def nprimo(a):\n    t = 0\n    i = 1\n    while(i <= a):\n        if a % i == 0:\n            t = t + 1    \n        i = i + 1\n    if t == 2:\n        return True\n    else:\n        return False\n\nnprimo(1)",
      "metadata": {
        "trusted": true
      },
      "outputs": [
        {
          "execution_count": 15,
          "output_type": "execute_result",
          "data": {
            "text/plain": "False"
          },
          "metadata": {}
        }
      ],
      "execution_count": 15
    },
    {
      "cell_type": "code",
      "source": "def cprimo(a):\n    if nprimo(3) == True:\n        return \"Este número es primo\")\n    else:\n        i = 0\n        p = 0\n        if nprimo(3) == True:\n        return \"Este número es primo\")\n    else:\n        i = 0\n        p = 0\n        def nprimo(a):\n            t = 0\n            i = 1\n            while(i <= a):\n                if a % i == 0:\n                    t = t + 1    \n                i = i + 1\n            if t == 2:\n                return True\n            else:\n                return False\n\n\n    \n    ",
      "metadata": {
        "trusted": true
      },
      "outputs": [
        {
          "name": "stdout",
          "text": "1\n",
          "output_type": "stream"
        }
      ],
      "execution_count": 18
    },
    {
      "cell_type": "code",
      "source": "def factorial(a):\n    i = 1\n    arc = 1\n    while(i <= a):\n        arc = arc * i\n        i = i + 1\n    return arc\n\nlista = [4, 7, 5, 0, 9, 3]\nfor i in lista:\n    print(factorial(i))",
      "metadata": {
        "trusted": true
      },
      "outputs": [
        {
          "name": "stdout",
          "text": "24\n5040\n120\n1\n362880\n6\n",
          "output_type": "stream"
        }
      ],
      "execution_count": 11
    },
    {
      "cell_type": "code",
      "source": "",
      "metadata": {
        "trusted": true
      },
      "outputs": [],
      "execution_count": null
    }
  ]
}